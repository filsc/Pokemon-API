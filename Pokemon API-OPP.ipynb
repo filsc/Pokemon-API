{
 "cells": [
  {
   "cell_type": "code",
   "execution_count": null,
   "metadata": {},
   "outputs": [],
   "source": [
    "import requests as r, pprint\n",
    "\n",
    "data = r.get(\"https://pokeapi.co/api/v2/pokemon/\")\n",
    "data"
   ]
  },
  {
   "cell_type": "code",
   "execution_count": 41,
   "metadata": {},
   "outputs": [
    {
     "name": "stdout",
     "output_type": "stream",
     "text": [
      "Type the name of a pokemon : pidgey\n"
     ]
    },
    {
     "data": {
      "text/plain": [
       "{'name': 'pidgey',\n",
       " 'weight': 18,\n",
       " 'abilities': ['keen-eye', 'tangled-feet', 'big-pecks'],\n",
       " 'types': ['normal', 'flying']}"
      ]
     },
     "execution_count": 41,
     "metadata": {},
     "output_type": "execute_result"
    }
   ],
   "source": [
    "class Pokemon:\n",
    "    def __init__(self, pokemon_name):\n",
    "            data = r.get(f'https://pokeapi.co/api/v2/pokemon/{pokemon_name}').json()\n",
    "            self.name = data['name']\n",
    "            self.weight = data['weight']\n",
    "            self.abilities = [ability_dict['ability']['name'] for ability_dict in data['abilities']]\n",
    "            self.types = [x['type']['name'] for x in data['types']]\n",
    "            \n",
    "            self.poke_dict = {\n",
    "            'name': data['name'],\n",
    "            'weight': data['weight'],\n",
    "            'abilities': [ability_dict['ability']['name'] for ability_dict in data['abilities']],\n",
    "            'types': [x['type']['name'] for x in data['types']],\n",
    "            }\n",
    "             \n",
    "p1 = input('Type the name of a pokemon : ')\n",
    "p2 = Pokemon(p1)\n",
    "\n",
    "p2.poke_dict"
   ]
  },
  {
   "cell_type": "code",
   "execution_count": null,
   "metadata": {},
   "outputs": [],
   "source": []
  },
  {
   "cell_type": "code",
   "execution_count": null,
   "metadata": {},
   "outputs": [],
   "source": []
  },
  {
   "cell_type": "code",
   "execution_count": null,
   "metadata": {},
   "outputs": [],
   "source": []
  },
  {
   "cell_type": "code",
   "execution_count": null,
   "metadata": {},
   "outputs": [],
   "source": []
  },
  {
   "cell_type": "code",
   "execution_count": null,
   "metadata": {},
   "outputs": [],
   "source": []
  }
 ],
 "metadata": {
  "kernelspec": {
   "display_name": "Python 3",
   "language": "python",
   "name": "python3"
  },
  "language_info": {
   "codemirror_mode": {
    "name": "ipython",
    "version": 3
   },
   "file_extension": ".py",
   "mimetype": "text/x-python",
   "name": "python",
   "nbconvert_exporter": "python",
   "pygments_lexer": "ipython3",
   "version": "3.8.5"
  }
 },
 "nbformat": 4,
 "nbformat_minor": 4
}
